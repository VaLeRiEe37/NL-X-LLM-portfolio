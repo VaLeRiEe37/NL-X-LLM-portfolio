{
  "cells": [
    {
      "cell_type": "markdown",
      "source": [
        "# Homework # - Programming: Hate Speech\n",
        "### Hate Speech Detection"
      ],
      "metadata": {
        "id": "FDUX77D7KZpC"
      }
    },
    {
      "cell_type": "code",
      "source": [
        "import pandas as pd\n",
        "import numpy as np\n",
        "import matplotlib.pyplot as plt\n",
        "import seaborn as sns\n",
        "from tqdm.auto import tqdm"
      ],
      "metadata": {
        "id": "UffDoanbKaNk"
      },
      "execution_count": null,
      "outputs": []
    },
    {
      "cell_type": "code",
      "execution_count": 2,
      "metadata": {
        "colab": {
          "base_uri": "https://localhost:8080/"
        },
        "id": "HuYub3FSf9g-",
        "outputId": "91784569-b415-4292-9dc2-332fa052c9b6"
      },
      "outputs": [
        {
          "output_type": "stream",
          "name": "stdout",
          "text": [
            "Requirement already satisfied: torchsummaryX in /usr/local/lib/python3.10/dist-packages (1.3.0)\n",
            "Requirement already satisfied: torch in /usr/local/lib/python3.10/dist-packages (from torchsummaryX) (2.1.0+cu121)\n",
            "Requirement already satisfied: numpy in /usr/local/lib/python3.10/dist-packages (from torchsummaryX) (1.23.5)\n",
            "Requirement already satisfied: pandas in /usr/local/lib/python3.10/dist-packages (from torchsummaryX) (1.5.3)\n",
            "Requirement already satisfied: python-dateutil>=2.8.1 in /usr/local/lib/python3.10/dist-packages (from pandas->torchsummaryX) (2.8.2)\n",
            "Requirement already satisfied: pytz>=2020.1 in /usr/local/lib/python3.10/dist-packages (from pandas->torchsummaryX) (2023.4)\n",
            "Requirement already satisfied: filelock in /usr/local/lib/python3.10/dist-packages (from torch->torchsummaryX) (3.13.1)\n",
            "Requirement already satisfied: typing-extensions in /usr/local/lib/python3.10/dist-packages (from torch->torchsummaryX) (4.5.0)\n",
            "Requirement already satisfied: sympy in /usr/local/lib/python3.10/dist-packages (from torch->torchsummaryX) (1.12)\n",
            "Requirement already satisfied: networkx in /usr/local/lib/python3.10/dist-packages (from torch->torchsummaryX) (3.2.1)\n",
            "Requirement already satisfied: jinja2 in /usr/local/lib/python3.10/dist-packages (from torch->torchsummaryX) (3.1.3)\n",
            "Requirement already satisfied: fsspec in /usr/local/lib/python3.10/dist-packages (from torch->torchsummaryX) (2023.6.0)\n",
            "Requirement already satisfied: triton==2.1.0 in /usr/local/lib/python3.10/dist-packages (from torch->torchsummaryX) (2.1.0)\n",
            "Requirement already satisfied: six>=1.5 in /usr/local/lib/python3.10/dist-packages (from python-dateutil>=2.8.1->pandas->torchsummaryX) (1.16.0)\n",
            "Requirement already satisfied: MarkupSafe>=2.0 in /usr/local/lib/python3.10/dist-packages (from jinja2->torch->torchsummaryX) (2.1.4)\n",
            "Requirement already satisfied: mpmath>=0.19 in /usr/local/lib/python3.10/dist-packages (from sympy->torch->torchsummaryX) (1.3.0)\n"
          ]
        }
      ],
      "source": [
        "pip install torchsummaryX"
      ]
    },
    {
      "cell_type": "code",
      "execution_count": 3,
      "metadata": {
        "colab": {
          "base_uri": "https://localhost:8080/"
        },
        "id": "Jmt8w9aUf9g_",
        "outputId": "b42dbf64-1fd7-4580-cfd7-7dd4cc83cd95"
      },
      "outputs": [
        {
          "output_type": "stream",
          "name": "stdout",
          "text": [
            "Device:  cuda\n"
          ]
        }
      ],
      "source": [
        "import torch\n",
        "import torch.nn as nn\n",
        "import torch.nn.functional as F\n",
        "from torchsummaryX import summary\n",
        "from torch.utils.data import Dataset, DataLoader, TensorDataset\n",
        "\n",
        "\n",
        "from matplotlib import pyplot as plt\n",
        "from sklearn.metrics import accuracy_score\n",
        "from sklearn.preprocessing import StandardScaler\n",
        "import gc\n",
        "\n",
        "from imblearn.over_sampling import SMOTE\n",
        "from imblearn.under_sampling import TomekLinks\n",
        "from sklearn.model_selection import train_test_split\n",
        "from sklearn.metrics import precision_score, recall_score, f1_score, confusion_matrix, ConfusionMatrixDisplay\n",
        "\n",
        "import warnings\n",
        "warnings.filterwarnings('ignore')\n",
        "device = 'cuda' if torch.cuda.is_available() else 'cpu'\n",
        "print(\"Device: \", device)"
      ]
    },
    {
      "cell_type": "markdown",
      "source": [
        "## Data Loading..."
      ],
      "metadata": {
        "id": "28XMOmUNTmRQ"
      }
    },
    {
      "cell_type": "code",
      "execution_count": 4,
      "metadata": {
        "colab": {
          "base_uri": "https://localhost:8080/",
          "height": 206
        },
        "id": "21-KaoFHf9g_",
        "outputId": "342d5c29-1146-4d22-bdab-5adbd24e840e"
      },
      "outputs": [
        {
          "output_type": "execute_result",
          "data": {
            "text/plain": [
              "   total_votes  hate_speech_votes  other_votes  label  \\\n",
              "0            3                  0            3      0   \n",
              "1            3                  0            3      0   \n",
              "2            3                  0            3      0   \n",
              "3            3                  0            3      0   \n",
              "4            6                  0            6      0   \n",
              "\n",
              "                                               tweet  \\\n",
              "0  !!! RT @mayasolovely: As a woman you shouldn't...   \n",
              "1  !!!!! RT @mleew17: boy dats cold...tyga dwn ba...   \n",
              "2  !!!!!!! RT @UrKindOfBrand Dawg!!!! RT @80sbaby...   \n",
              "3  !!!!!!!!! RT @C_G_Anderson: @viva_based she lo...   \n",
              "4  !!!!!!!!!!!!! RT @ShenikaRoberts: The shit you...   \n",
              "\n",
              "                                        clean_tweets  \n",
              "0     as a woman you shouldnt complain about clea...  \n",
              "1     boy dats coldtyga dwn bad for cuffin dat ho...  \n",
              "2     dawg   you ever fuck a bitch and she sta to...  \n",
              "3                             she look like a tranny  \n",
              "4     the shit you hear about me might be true or...  "
            ],
            "text/html": [
              "\n",
              "  <div id=\"df-7535a3e4-6e95-45e1-bc69-aa51258a09df\" class=\"colab-df-container\">\n",
              "    <div>\n",
              "<style scoped>\n",
              "    .dataframe tbody tr th:only-of-type {\n",
              "        vertical-align: middle;\n",
              "    }\n",
              "\n",
              "    .dataframe tbody tr th {\n",
              "        vertical-align: top;\n",
              "    }\n",
              "\n",
              "    .dataframe thead th {\n",
              "        text-align: right;\n",
              "    }\n",
              "</style>\n",
              "<table border=\"1\" class=\"dataframe\">\n",
              "  <thead>\n",
              "    <tr style=\"text-align: right;\">\n",
              "      <th></th>\n",
              "      <th>total_votes</th>\n",
              "      <th>hate_speech_votes</th>\n",
              "      <th>other_votes</th>\n",
              "      <th>label</th>\n",
              "      <th>tweet</th>\n",
              "      <th>clean_tweets</th>\n",
              "    </tr>\n",
              "  </thead>\n",
              "  <tbody>\n",
              "    <tr>\n",
              "      <th>0</th>\n",
              "      <td>3</td>\n",
              "      <td>0</td>\n",
              "      <td>3</td>\n",
              "      <td>0</td>\n",
              "      <td>!!! RT @mayasolovely: As a woman you shouldn't...</td>\n",
              "      <td>as a woman you shouldnt complain about clea...</td>\n",
              "    </tr>\n",
              "    <tr>\n",
              "      <th>1</th>\n",
              "      <td>3</td>\n",
              "      <td>0</td>\n",
              "      <td>3</td>\n",
              "      <td>0</td>\n",
              "      <td>!!!!! RT @mleew17: boy dats cold...tyga dwn ba...</td>\n",
              "      <td>boy dats coldtyga dwn bad for cuffin dat ho...</td>\n",
              "    </tr>\n",
              "    <tr>\n",
              "      <th>2</th>\n",
              "      <td>3</td>\n",
              "      <td>0</td>\n",
              "      <td>3</td>\n",
              "      <td>0</td>\n",
              "      <td>!!!!!!! RT @UrKindOfBrand Dawg!!!! RT @80sbaby...</td>\n",
              "      <td>dawg   you ever fuck a bitch and she sta to...</td>\n",
              "    </tr>\n",
              "    <tr>\n",
              "      <th>3</th>\n",
              "      <td>3</td>\n",
              "      <td>0</td>\n",
              "      <td>3</td>\n",
              "      <td>0</td>\n",
              "      <td>!!!!!!!!! RT @C_G_Anderson: @viva_based she lo...</td>\n",
              "      <td>she look like a tranny</td>\n",
              "    </tr>\n",
              "    <tr>\n",
              "      <th>4</th>\n",
              "      <td>6</td>\n",
              "      <td>0</td>\n",
              "      <td>6</td>\n",
              "      <td>0</td>\n",
              "      <td>!!!!!!!!!!!!! RT @ShenikaRoberts: The shit you...</td>\n",
              "      <td>the shit you hear about me might be true or...</td>\n",
              "    </tr>\n",
              "  </tbody>\n",
              "</table>\n",
              "</div>\n",
              "    <div class=\"colab-df-buttons\">\n",
              "\n",
              "  <div class=\"colab-df-container\">\n",
              "    <button class=\"colab-df-convert\" onclick=\"convertToInteractive('df-7535a3e4-6e95-45e1-bc69-aa51258a09df')\"\n",
              "            title=\"Convert this dataframe to an interactive table.\"\n",
              "            style=\"display:none;\">\n",
              "\n",
              "  <svg xmlns=\"http://www.w3.org/2000/svg\" height=\"24px\" viewBox=\"0 -960 960 960\">\n",
              "    <path d=\"M120-120v-720h720v720H120Zm60-500h600v-160H180v160Zm220 220h160v-160H400v160Zm0 220h160v-160H400v160ZM180-400h160v-160H180v160Zm440 0h160v-160H620v160ZM180-180h160v-160H180v160Zm440 0h160v-160H620v160Z\"/>\n",
              "  </svg>\n",
              "    </button>\n",
              "\n",
              "  <style>\n",
              "    .colab-df-container {\n",
              "      display:flex;\n",
              "      gap: 12px;\n",
              "    }\n",
              "\n",
              "    .colab-df-convert {\n",
              "      background-color: #E8F0FE;\n",
              "      border: none;\n",
              "      border-radius: 50%;\n",
              "      cursor: pointer;\n",
              "      display: none;\n",
              "      fill: #1967D2;\n",
              "      height: 32px;\n",
              "      padding: 0 0 0 0;\n",
              "      width: 32px;\n",
              "    }\n",
              "\n",
              "    .colab-df-convert:hover {\n",
              "      background-color: #E2EBFA;\n",
              "      box-shadow: 0px 1px 2px rgba(60, 64, 67, 0.3), 0px 1px 3px 1px rgba(60, 64, 67, 0.15);\n",
              "      fill: #174EA6;\n",
              "    }\n",
              "\n",
              "    .colab-df-buttons div {\n",
              "      margin-bottom: 4px;\n",
              "    }\n",
              "\n",
              "    [theme=dark] .colab-df-convert {\n",
              "      background-color: #3B4455;\n",
              "      fill: #D2E3FC;\n",
              "    }\n",
              "\n",
              "    [theme=dark] .colab-df-convert:hover {\n",
              "      background-color: #434B5C;\n",
              "      box-shadow: 0px 1px 3px 1px rgba(0, 0, 0, 0.15);\n",
              "      filter: drop-shadow(0px 1px 2px rgba(0, 0, 0, 0.3));\n",
              "      fill: #FFFFFF;\n",
              "    }\n",
              "  </style>\n",
              "\n",
              "    <script>\n",
              "      const buttonEl =\n",
              "        document.querySelector('#df-7535a3e4-6e95-45e1-bc69-aa51258a09df button.colab-df-convert');\n",
              "      buttonEl.style.display =\n",
              "        google.colab.kernel.accessAllowed ? 'block' : 'none';\n",
              "\n",
              "      async function convertToInteractive(key) {\n",
              "        const element = document.querySelector('#df-7535a3e4-6e95-45e1-bc69-aa51258a09df');\n",
              "        const dataTable =\n",
              "          await google.colab.kernel.invokeFunction('convertToInteractive',\n",
              "                                                    [key], {});\n",
              "        if (!dataTable) return;\n",
              "\n",
              "        const docLinkHtml = 'Like what you see? Visit the ' +\n",
              "          '<a target=\"_blank\" href=https://colab.research.google.com/notebooks/data_table.ipynb>data table notebook</a>'\n",
              "          + ' to learn more about interactive tables.';\n",
              "        element.innerHTML = '';\n",
              "        dataTable['output_type'] = 'display_data';\n",
              "        await google.colab.output.renderOutput(dataTable, element);\n",
              "        const docLink = document.createElement('div');\n",
              "        docLink.innerHTML = docLinkHtml;\n",
              "        element.appendChild(docLink);\n",
              "      }\n",
              "    </script>\n",
              "  </div>\n",
              "\n",
              "\n",
              "<div id=\"df-c4db7327-6529-4e4e-a58e-2ae2c9bad083\">\n",
              "  <button class=\"colab-df-quickchart\" onclick=\"quickchart('df-c4db7327-6529-4e4e-a58e-2ae2c9bad083')\"\n",
              "            title=\"Suggest charts\"\n",
              "            style=\"display:none;\">\n",
              "\n",
              "<svg xmlns=\"http://www.w3.org/2000/svg\" height=\"24px\"viewBox=\"0 0 24 24\"\n",
              "     width=\"24px\">\n",
              "    <g>\n",
              "        <path d=\"M19 3H5c-1.1 0-2 .9-2 2v14c0 1.1.9 2 2 2h14c1.1 0 2-.9 2-2V5c0-1.1-.9-2-2-2zM9 17H7v-7h2v7zm4 0h-2V7h2v10zm4 0h-2v-4h2v4z\"/>\n",
              "    </g>\n",
              "</svg>\n",
              "  </button>\n",
              "\n",
              "<style>\n",
              "  .colab-df-quickchart {\n",
              "      --bg-color: #E8F0FE;\n",
              "      --fill-color: #1967D2;\n",
              "      --hover-bg-color: #E2EBFA;\n",
              "      --hover-fill-color: #174EA6;\n",
              "      --disabled-fill-color: #AAA;\n",
              "      --disabled-bg-color: #DDD;\n",
              "  }\n",
              "\n",
              "  [theme=dark] .colab-df-quickchart {\n",
              "      --bg-color: #3B4455;\n",
              "      --fill-color: #D2E3FC;\n",
              "      --hover-bg-color: #434B5C;\n",
              "      --hover-fill-color: #FFFFFF;\n",
              "      --disabled-bg-color: #3B4455;\n",
              "      --disabled-fill-color: #666;\n",
              "  }\n",
              "\n",
              "  .colab-df-quickchart {\n",
              "    background-color: var(--bg-color);\n",
              "    border: none;\n",
              "    border-radius: 50%;\n",
              "    cursor: pointer;\n",
              "    display: none;\n",
              "    fill: var(--fill-color);\n",
              "    height: 32px;\n",
              "    padding: 0;\n",
              "    width: 32px;\n",
              "  }\n",
              "\n",
              "  .colab-df-quickchart:hover {\n",
              "    background-color: var(--hover-bg-color);\n",
              "    box-shadow: 0 1px 2px rgba(60, 64, 67, 0.3), 0 1px 3px 1px rgba(60, 64, 67, 0.15);\n",
              "    fill: var(--button-hover-fill-color);\n",
              "  }\n",
              "\n",
              "  .colab-df-quickchart-complete:disabled,\n",
              "  .colab-df-quickchart-complete:disabled:hover {\n",
              "    background-color: var(--disabled-bg-color);\n",
              "    fill: var(--disabled-fill-color);\n",
              "    box-shadow: none;\n",
              "  }\n",
              "\n",
              "  .colab-df-spinner {\n",
              "    border: 2px solid var(--fill-color);\n",
              "    border-color: transparent;\n",
              "    border-bottom-color: var(--fill-color);\n",
              "    animation:\n",
              "      spin 1s steps(1) infinite;\n",
              "  }\n",
              "\n",
              "  @keyframes spin {\n",
              "    0% {\n",
              "      border-color: transparent;\n",
              "      border-bottom-color: var(--fill-color);\n",
              "      border-left-color: var(--fill-color);\n",
              "    }\n",
              "    20% {\n",
              "      border-color: transparent;\n",
              "      border-left-color: var(--fill-color);\n",
              "      border-top-color: var(--fill-color);\n",
              "    }\n",
              "    30% {\n",
              "      border-color: transparent;\n",
              "      border-left-color: var(--fill-color);\n",
              "      border-top-color: var(--fill-color);\n",
              "      border-right-color: var(--fill-color);\n",
              "    }\n",
              "    40% {\n",
              "      border-color: transparent;\n",
              "      border-right-color: var(--fill-color);\n",
              "      border-top-color: var(--fill-color);\n",
              "    }\n",
              "    60% {\n",
              "      border-color: transparent;\n",
              "      border-right-color: var(--fill-color);\n",
              "    }\n",
              "    80% {\n",
              "      border-color: transparent;\n",
              "      border-right-color: var(--fill-color);\n",
              "      border-bottom-color: var(--fill-color);\n",
              "    }\n",
              "    90% {\n",
              "      border-color: transparent;\n",
              "      border-bottom-color: var(--fill-color);\n",
              "    }\n",
              "  }\n",
              "</style>\n",
              "\n",
              "  <script>\n",
              "    async function quickchart(key) {\n",
              "      const quickchartButtonEl =\n",
              "        document.querySelector('#' + key + ' button');\n",
              "      quickchartButtonEl.disabled = true;  // To prevent multiple clicks.\n",
              "      quickchartButtonEl.classList.add('colab-df-spinner');\n",
              "      try {\n",
              "        const charts = await google.colab.kernel.invokeFunction(\n",
              "            'suggestCharts', [key], {});\n",
              "      } catch (error) {\n",
              "        console.error('Error during call to suggestCharts:', error);\n",
              "      }\n",
              "      quickchartButtonEl.classList.remove('colab-df-spinner');\n",
              "      quickchartButtonEl.classList.add('colab-df-quickchart-complete');\n",
              "    }\n",
              "    (() => {\n",
              "      let quickchartButtonEl =\n",
              "        document.querySelector('#df-c4db7327-6529-4e4e-a58e-2ae2c9bad083 button');\n",
              "      quickchartButtonEl.style.display =\n",
              "        google.colab.kernel.accessAllowed ? 'block' : 'none';\n",
              "    })();\n",
              "  </script>\n",
              "</div>\n",
              "    </div>\n",
              "  </div>\n"
            ]
          },
          "metadata": {},
          "execution_count": 4
        }
      ],
      "source": [
        "df = pd.read_pickle('clean_df.pkl')\n",
        "df.head()"
      ]
    },
    {
      "cell_type": "code",
      "execution_count": 5,
      "metadata": {
        "colab": {
          "base_uri": "https://localhost:8080/"
        },
        "id": "nW1avDXLf9g_",
        "outputId": "d2f5d594-89c1-4b36-f322-3fa89545bd4b"
      },
      "outputs": [
        {
          "output_type": "execute_result",
          "data": {
            "text/plain": [
              "0    19790\n",
              "1     3419\n",
              "2     1251\n",
              "3      287\n",
              "4       21\n",
              "5        7\n",
              "6        5\n",
              "7        3\n",
              "Name: hate_speech_votes, dtype: int64"
            ]
          },
          "metadata": {},
          "execution_count": 5
        }
      ],
      "source": [
        "df.hate_speech_votes.value_counts()"
      ]
    },
    {
      "cell_type": "code",
      "execution_count": 6,
      "metadata": {
        "colab": {
          "base_uri": "https://localhost:8080/"
        },
        "id": "eJpkGIn2f9g_",
        "outputId": "d390f46b-8bbb-431a-c6ce-3c7b89235071"
      },
      "outputs": [
        {
          "output_type": "stream",
          "name": "stdout",
          "text": [
            "Percentage of hate speech votes:  0.28051486906347095\n"
          ]
        },
        {
          "output_type": "execute_result",
          "data": {
            "text/plain": [
              "0    23353\n",
              "1     1430\n",
              "Name: label, dtype: int64"
            ]
          },
          "metadata": {},
          "execution_count": 6
        }
      ],
      "source": [
        "# percentage of hate speech votes\n",
        "print('Percentage of hate speech votes: ', df.hate_speech_votes.sum() / df.hate_speech_votes.count())\n",
        "df.label.value_counts()"
      ]
    },
    {
      "cell_type": "code",
      "execution_count": 7,
      "metadata": {
        "id": "errgzpY8f9g_"
      },
      "outputs": [],
      "source": [
        "# create variables tweet and label\n",
        "tweets = df.clean_tweets\n",
        "labels = df.label"
      ]
    },
    {
      "cell_type": "code",
      "execution_count": 8,
      "metadata": {
        "colab": {
          "base_uri": "https://localhost:8080/",
          "height": 475
        },
        "id": "zq96mKO9f9g_",
        "outputId": "b7827e77-b471-4ee6-8ebe-348f61999920"
      },
      "outputs": [
        {
          "output_type": "execute_result",
          "data": {
            "text/plain": [
              "<matplotlib.legend.Legend at 0x7eaf256ef700>"
            ]
          },
          "metadata": {},
          "execution_count": 8
        },
        {
          "output_type": "display_data",
          "data": {
            "text/plain": [
              "<Figure size 640x480 with 1 Axes>"
            ],
            "image/png": "[encoded data removed]"
          },
          "metadata": {}
        }
      ],
      "source": [
        "sns.set(style = 'whitegrid', palette='bright')\n",
        "sns.histplot(pd.DataFrame(labels)['label'].apply(lambda x:str(x)), label='label')\n",
        "plt.legend()"
      ]
    },
    {
      "cell_type": "code",
      "execution_count": 9,
      "metadata": {
        "colab": {
          "base_uri": "https://localhost:8080/"
        },
        "id": "l2wlanx9f9g_",
        "outputId": "f0812f9a-ccc7-422f-c1c7-dcc1ec318e96"
      },
      "outputs": [
        {
          "output_type": "stream",
          "name": "stderr",
          "text": [
            "[nltk_data] Downloading package punkt to /root/nltk_data...\n",
            "[nltk_data]   Package punkt is already up-to-date!\n",
            "[nltk_data] Downloading package stopwords to /root/nltk_data...\n",
            "[nltk_data]   Package stopwords is already up-to-date!\n"
          ]
        },
        {
          "output_type": "execute_result",
          "data": {
            "text/plain": [
              "24783"
            ]
          },
          "metadata": {},
          "execution_count": 9
        }
      ],
      "source": [
        "import nltk\n",
        "from nltk.corpus import stopwords\n",
        "from nltk.tokenize import word_tokenize\n",
        "nltk.download('punkt')\n",
        "nltk.download('stopwords')\n",
        "stop_words = set(stopwords.words('english'))\n",
        "def process_tweet(text):\n",
        "    tokens = nltk.word_tokenize(text)\n",
        "    stopwords_removed = [token.lower() for token in tokens if token.lower() not in stop_words]\n",
        "    return stopwords_removed\n",
        "\n",
        "processed_data = list(map(process_tweet, df.clean_tweets))\n",
        "len(processed_data)"
      ]
    },
    {
      "cell_type": "code",
      "execution_count": 10,
      "metadata": {
        "colab": {
          "base_uri": "https://localhost:8080/"
        },
        "id": "R1ynFEpif9hA",
        "outputId": "ec932c4c-32f0-495b-bf7f-d9a6fc6b5cb5"
      },
      "outputs": [
        {
          "output_type": "execute_result",
          "data": {
            "text/plain": [
              "[('bitch', 8227),\n",
              " ('bitches', 3083),\n",
              " ('like', 2766),\n",
              " ('hoes', 2368),\n",
              " ('pussy', 2099),\n",
              " ('im', 2061),\n",
              " ('hoe', 1906),\n",
              " ('dont', 1749),\n",
              " ('got', 1597),\n",
              " ('ass', 1570),\n",
              " ('get', 1428),\n",
              " ('fuck', 1411),\n",
              " ('u', 1280),\n",
              " ('shit', 1262),\n",
              " ('nigga', 1198),\n",
              " ('aint', 1158),\n",
              " ('trash', 1142),\n",
              " ('lol', 1074),\n",
              " ('know', 806),\n",
              " ('niggas', 791)]"
            ]
          },
          "metadata": {},
          "execution_count": 10
        }
      ],
      "source": [
        "from nltk.probability import FreqDist\n",
        "all_tokens = [item for sublist in processed_data for item in sublist]\n",
        "clean_corpus_freqdist = FreqDist(all_tokens)\n",
        "# top 20 words in cleaned corpus\n",
        "clean_corpus_freqdist.most_common(20)"
      ]
    },
    {
      "cell_type": "markdown",
      "source": [
        "## Lemmatization"
      ],
      "metadata": {
        "id": "Du-8RY4oTvgf"
      }
    },
    {
      "cell_type": "code",
      "execution_count": 11,
      "metadata": {
        "colab": {
          "base_uri": "https://localhost:8080/"
        },
        "id": "4Cjh2tt4f9hA",
        "outputId": "3107a730-0bf3-4b69-b22e-3798be7c60c5"
      },
      "outputs": [
        {
          "output_type": "stream",
          "name": "stderr",
          "text": [
            "[nltk_data] Downloading package wordnet to /root/nltk_data...\n",
            "[nltk_data]   Package wordnet is already up-to-date!\n"
          ]
        },
        {
          "output_type": "execute_result",
          "data": {
            "text/plain": [
              "24783"
            ]
          },
          "metadata": {},
          "execution_count": 11
        }
      ],
      "source": [
        "nltk.download('wordnet')\n",
        "from nltk.stem import WordNetLemmatizer, PorterStemmer\n",
        "\n",
        "lemmatizer = WordNetLemmatizer()\n",
        "lemmatized_data = []\n",
        "\n",
        "for text in processed_data:\n",
        "    lemmed = ' '.join([lemmatizer.lemmatize(word) for word in text])\n",
        "    lemmatized_data.append(lemmed)\n",
        "len(lemmatized_data)"
      ]
    },
    {
      "cell_type": "code",
      "execution_count": 12,
      "metadata": {
        "colab": {
          "base_uri": "https://localhost:8080/",
          "height": 518
        },
        "id": "E8cfyKfhf9hA",
        "outputId": "42049919-9995-42b3-9f25-cea21fd46e18"
      },
      "outputs": [
        {
          "output_type": "execute_result",
          "data": {
            "text/plain": [
              "<seaborn.axisgrid.FacetGrid at 0x7eaf1ae9f760>"
            ]
          },
          "metadata": {},
          "execution_count": 12
        },
        {
          "output_type": "display_data",
          "data": {
            "text/plain": [
              "<Figure size 564.625x500 with 1 Axes>"
            ],
            "image/png": "[encoded data removed]"
          },
          "metadata": {}
        }
      ],
      "source": [
        "stats = pd.DataFrame({'text':lemmatized_data, 'label':labels})\n",
        "stats['text_len'] = stats['text'].apply(lambda x:len(x))\n",
        "sns.displot(stats, y='text_len', hue='label')"
      ]
    },
    {
      "cell_type": "markdown",
      "metadata": {
        "id": "THt29Ut4f9hA"
      },
      "source": [
        "We can see the hatespeech has very low percentage (around 5%) in the dataset, so we'll have to do upsampling. Also majority text has a length under 60. So we'll perform padding and truncation to unsure they all have a length 60, for tensor training by deep learning models."
      ]
    },
    {
      "cell_type": "markdown",
      "source": [
        "##Bert Tokenizer - pretrained for hate speech detection"
      ],
      "metadata": {
        "id": "M_6FR4ivT4Da"
      }
    },
    {
      "cell_type": "code",
      "execution_count": 13,
      "metadata": {
        "id": "c9krjGlPf9hB"
      },
      "outputs": [],
      "source": [
        "from transformers import BertTokenizer, BertModel\n",
        "model_name = 'Hate-speech-CNERG/bert-base-uncased-hatexplain'\n",
        "tokenizer = BertTokenizer.from_pretrained(model_name)\n",
        "bert = BertModel.from_pretrained(model_name).to(device)"
      ]
    },
    {
      "cell_type": "code",
      "execution_count": 14,
      "metadata": {
        "id": "Ta7iObnNf9hB"
      },
      "outputs": [],
      "source": [
        "def tokenize(x):\n",
        "  out = tokenizer.encode_plus(x,\n",
        "        add_special_tokens=True,  # Add [CLS] and [SEP] tokens\n",
        "        max_length=60,    # Truncate or pad to the maximum length\n",
        "        truncation=True,          # Enable truncation if text is too long\n",
        "        padding='max_length',     # Pad to the maximum length\n",
        "        return_tensors='pt'       # Return PyTorch tensors)\n",
        "  )\n",
        "\n",
        "  return out"
      ]
    },
    {
      "cell_type": "code",
      "execution_count": 15,
      "metadata": {
        "id": "OZjnxrSLf9hB"
      },
      "outputs": [],
      "source": [
        "class NLPDataset(Dataset):\n",
        "    def __init__(self, data, label) :\n",
        "        super().__init__()\n",
        "\n",
        "        self.data = data\n",
        "        # print(data)\n",
        "        # self.input_ids = data[:,0]\n",
        "        # self.token_type_ids =data[:,1]\n",
        "        # self.attention_mask = data[:,2]\n",
        "        self.label = torch.LongTensor(label)\n",
        "\n",
        "    def __len__(self):\n",
        "        return self.label.shape[0]\n",
        "\n",
        "    def __getitem__(self, index):\n",
        "        # return (torch.LongTensor(self.input_ids[index]).squeeze(), \\\n",
        "        #         torch.LongTensor(self.attention_mask[index]).squeeze()), \\\n",
        "        return self.data[index],self.label[index]"
      ]
    },
    {
      "cell_type": "code",
      "execution_count": 16,
      "metadata": {
        "id": "1SFpuWsYf9hB"
      },
      "outputs": [],
      "source": [
        "# X_tokenized = [list(tokenize(x).values()) for x in lemmatized_data ]\n",
        "X_tokenized = [tokenize(x) for x in lemmatized_data ]\n",
        "# print(\"shape of one news:\", X_tokenized[0][0].shape)\n",
        "# lemmatized_data[0], label[0], X_tokenized[0]"
      ]
    },
    {
      "cell_type": "code",
      "execution_count": 17,
      "metadata": {
        "colab": {
          "base_uri": "https://localhost:8080/"
        },
        "id": "6aQex7E1f9hB",
        "outputId": "b6bc3e14-b5de-49b6-8ba3-420a71658ca3"
      },
      "outputs": [
        {
          "output_type": "execute_result",
          "data": {
            "text/plain": [
              "(24783,\n",
              " tensor([[1, 1, 1, 1, 1, 1, 1, 1, 1, 1, 1, 1, 0, 0, 0, 0, 0, 0, 0, 0, 0, 0, 0, 0,\n",
              "          0, 0, 0, 0, 0, 0, 0, 0, 0, 0, 0, 0, 0, 0, 0, 0, 0, 0, 0, 0, 0, 0, 0, 0,\n",
              "          0, 0, 0, 0, 0, 0, 0, 0, 0, 0, 0, 0]]))"
            ]
          },
          "metadata": {},
          "execution_count": 17
        }
      ],
      "source": [
        "att_mask = [x['attention_mask'] for  x in X_tokenized]\n",
        "len(att_mask), att_mask[0]"
      ]
    },
    {
      "cell_type": "code",
      "execution_count": 18,
      "metadata": {
        "colab": {
          "base_uri": "https://localhost:8080/",
          "height": 66,
          "referenced_widgets": [
            "5741deca1a5e4e0ea5389d2de78d2a71",
            "a1c3377635684704aaa140c89420c09d",
            "dc402b95e1eb4251b8ec82ce9faf7068",
            "4a2f86d9db29456da85d3a27f3acd1c9",
            "70a1e710a7bd49a3b64d2c1a01ac478f",
            "df2594396edf4545bad896de4f9ca7ee",
            "1c3f3ae6f0ce43db9a1c80764dcb1939",
            "fad0a47a7dbe47d1a8b1f9938633648f",
            "9bc1c8b3f84f4a1b82a35468498da73e",
            "d7845e68a0674320a295554cf30c0272",
            "f119fb4a73244e68ae1c74c56978a892"
          ]
        },
        "id": "4KktqXGef9hB",
        "outputId": "5a385f99-a059-4984-ce47-4994f398170e"
      },
      "outputs": [
        {
          "output_type": "display_data",
          "data": {
            "text/plain": [
              "Bert inferencing...:   0%|          | 0/24783 [00:00<?, ?it/s]"
            ],
            "application/vnd.jupyter.widget-view+json": {
              "version_major": 2,
              "version_minor": 0,
              "model_id": "5741deca1a5e4e0ea5389d2de78d2a71"
            }
          },
          "metadata": {}
        },
        {
          "output_type": "execute_result",
          "data": {
            "text/plain": [
              "torch.Size([60, 768])"
            ]
          },
          "metadata": {},
          "execution_count": 18
        }
      ],
      "source": [
        "embeddings = []\n",
        "for tokens in tqdm(X_tokenized, \"Bert inferencing...\"):\n",
        "  tokens.to(device)\n",
        "  with torch.no_grad():\n",
        "      outputs = bert(**tokens)\n",
        "      embeddings.append(outputs.last_hidden_state.squeeze().cpu())\n",
        "embeddings[0].shape"
      ]
    },
    {
      "cell_type": "code",
      "execution_count": 19,
      "metadata": {
        "colab": {
          "base_uri": "https://localhost:8080/"
        },
        "id": "gig998cUf9hB",
        "outputId": "72dfb9e2-814e-4268-8940-39970a7f29ce"
      },
      "outputs": [
        {
          "output_type": "execute_result",
          "data": {
            "text/plain": [
              "60"
            ]
          },
          "metadata": {},
          "execution_count": 19
        }
      ],
      "source": [
        "len(embeddings[0])"
      ]
    },
    {
      "cell_type": "markdown",
      "source": [
        "##Define the LSTM Model\n",
        "\n",
        "taking these embeddings as input and perform classification."
      ],
      "metadata": {
        "id": "kbJmBKKzijXW"
      }
    },
    {
      "cell_type": "code",
      "source": [
        "config = {\n",
        "    'batch_size': 128, # Increase this if your GPU can handle it\n",
        "    'lr': 1e-4,\n",
        "    'epochs': 30,\n",
        "}"
      ],
      "metadata": {
        "id": "vH9Ol7lJuqHO"
      },
      "execution_count": 20,
      "outputs": []
    },
    {
      "cell_type": "code",
      "source": [
        "class NLPDataset(Dataset):\n",
        "    def __init__(self, data, label) :\n",
        "        super().__init__()\n",
        "\n",
        "        self.data = data\n",
        "        # print(data)\n",
        "        # self.input_ids = data[:,0]\n",
        "        # self.token_type_ids =data[:,1]\n",
        "        # self.attention_mask = data[:,2]\n",
        "        self.label = torch.LongTensor(label)\n",
        "\n",
        "    def __len__(self):\n",
        "        return self.label.shape[0]\n",
        "\n",
        "    def __getitem__(self, index):\n",
        "        # return (torch.LongTensor(self.input_ids[index]).squeeze(), \\\n",
        "        #         torch.LongTensor(self.attention_mask[index]).squeeze()), \\\n",
        "        return self.data[index],self.label[index]"
      ],
      "metadata": {
        "id": "aamMLybvu2Bc"
      },
      "execution_count": 21,
      "outputs": []
    },
    {
      "cell_type": "code",
      "source": [
        "X_train, X_test, y_train, y_test = train_test_split(np.array(embeddings), np.array(labels), test_size=0.25, random_state=42)\n",
        "print(\"Label count:\", np.unique(y_train, return_counts=True))\n",
        "X_train.shape, y_train.shape"
      ],
      "metadata": {
        "colab": {
          "base_uri": "https://localhost:8080/"
        },
        "id": "GxJjFx95u4Vb",
        "outputId": "af603595-8129-431e-b0c3-e4a1d7ecf49f"
      },
      "execution_count": 22,
      "outputs": [
        {
          "output_type": "stream",
          "name": "stdout",
          "text": [
            "Label count: (array([0, 1]), array([17518,  1069]))\n"
          ]
        },
        {
          "output_type": "execute_result",
          "data": {
            "text/plain": [
              "((18587,), (18587,))"
            ]
          },
          "metadata": {},
          "execution_count": 22
        }
      ]
    },
    {
      "cell_type": "markdown",
      "source": [
        "### Upsampling"
      ],
      "metadata": {
        "id": "nq7FMauqUNNi"
      }
    },
    {
      "cell_type": "code",
      "source": [
        "sm = SMOTE(random_state=42)\n",
        "indices_resampled, y_train = sm.fit_resample(np.arange(X_train.shape[0])[:,np.newaxis], y_train)\n",
        "X_train = np.squeeze(np.array([X_train[i] for i in indices_resampled]))\n",
        "print(\"Label count:\", np.unique(y_train, return_counts=True))\n",
        "sns.histplot(y_train)\n",
        "plt.title(\"Upsampled\")\n",
        "X_train.shape, y_train.shape"
      ],
      "metadata": {
        "colab": {
          "base_uri": "https://localhost:8080/",
          "height": 492
        },
        "id": "c4pv9kedu889",
        "outputId": "f930b363-76b7-47cb-8f0f-923113faaed7"
      },
      "execution_count": 23,
      "outputs": [
        {
          "output_type": "stream",
          "name": "stdout",
          "text": [
            "Label count: (array([0, 1]), array([17518, 17518]))\n"
          ]
        },
        {
          "output_type": "execute_result",
          "data": {
            "text/plain": [
              "((35036,), (35036,))"
            ]
          },
          "metadata": {},
          "execution_count": 23
        },
        {
          "output_type": "display_data",
          "data": {
            "text/plain": [
              "<Figure size 640x480 with 1 Axes>"
            ],
            "image/png": "[encoded data removed]"
          },
          "metadata": {}
        }
      ]
    },
    {
      "cell_type": "code",
      "source": [
        "train_data = NLPDataset(X_train, y_train)\n",
        "val_data = NLPDataset(X_test, y_test)\n",
        "len(train_data), len(val_data)"
      ],
      "metadata": {
        "colab": {
          "base_uri": "https://localhost:8080/"
        },
        "id": "hXZ1g2X5vBzQ",
        "outputId": "ee4785bb-5a93-49f2-a183-cfe6d72d4e5f"
      },
      "execution_count": 24,
      "outputs": [
        {
          "output_type": "execute_result",
          "data": {
            "text/plain": [
              "(35036, 6196)"
            ]
          },
          "metadata": {},
          "execution_count": 24
        }
      ]
    },
    {
      "cell_type": "code",
      "source": [
        "train_loader = torch.utils.data.DataLoader(\n",
        "    dataset     = train_data,\n",
        "    batch_size  = config['batch_size'],\n",
        "    shuffle=True\n",
        ")\n",
        "val_loader = torch.utils.data.DataLoader(\n",
        "    dataset     = val_data,\n",
        "    batch_size  = config['batch_size'],\n",
        "    shuffle=False\n",
        ")\n",
        "\n",
        "for batch in train_loader:\n",
        "    X, y=batch\n",
        "    print(\"Sample batch shape:\", X.shape, y.shape, y)\n",
        "    break"
      ],
      "metadata": {
        "colab": {
          "base_uri": "https://localhost:8080/"
        },
        "id": "CSHQddGQvEVQ",
        "outputId": "74cfc9e4-2675-4959-e5d6-be618ca08f10"
      },
      "execution_count": 25,
      "outputs": [
        {
          "output_type": "stream",
          "name": "stdout",
          "text": [
            "Sample batch shape: torch.Size([128, 60, 768]) torch.Size([128]) tensor([1, 1, 1, 1, 0, 1, 0, 1, 0, 0, 1, 1, 1, 1, 1, 0, 0, 1, 1, 1, 0, 0, 1, 1,\n",
            "        1, 0, 0, 0, 0, 1, 0, 1, 0, 0, 0, 0, 0, 1, 1, 0, 0, 0, 1, 0, 0, 0, 0, 0,\n",
            "        0, 1, 1, 1, 0, 1, 1, 1, 0, 0, 0, 0, 1, 0, 1, 1, 0, 1, 0, 0, 0, 0, 1, 0,\n",
            "        1, 0, 1, 1, 0, 0, 0, 1, 0, 0, 1, 0, 0, 1, 0, 1, 1, 0, 1, 1, 1, 1, 0, 1,\n",
            "        1, 0, 0, 0, 0, 0, 1, 0, 1, 1, 1, 1, 1, 0, 0, 1, 1, 0, 1, 1, 0, 0, 0, 0,\n",
            "        0, 1, 1, 1, 1, 1, 1, 1])\n"
          ]
        }
      ]
    },
    {
      "cell_type": "code",
      "source": [
        "# Save train data\n",
        "torch.save(X_train, 'X_train.pt')\n",
        "torch.save(y_train, 'y_train.pt')\n",
        "\n",
        "# Save validation data\n",
        "torch.save(X_test, 'X_val.pt')  # Assuming X_test is your validation set\n",
        "torch.save(y_test, 'y_val.pt')  # Assuming y_test is your validation set labels\n"
      ],
      "metadata": {
        "id": "A05nb8l4wg3J"
      },
      "execution_count": 26,
      "outputs": []
    },
    {
      "cell_type": "markdown",
      "source": [
        "###LSTM"
      ],
      "metadata": {
        "id": "zYtj2TjkUWlS"
      }
    },
    {
      "cell_type": "code",
      "source": [
        "class LSTMModel(nn.Module):\n",
        "    def __init__(self, embedding_dim, hidden_dim, output_dim, n_layers, bidirectional, dropout):\n",
        "        super().__init__()\n",
        "        self.lstm = nn.LSTM(embedding_dim, hidden_dim, num_layers=n_layers,\n",
        "                            bidirectional=bidirectional, dropout=dropout, batch_first=True)\n",
        "        self.fc = nn.Linear(hidden_dim * 2 if bidirectional else hidden_dim, output_dim)\n",
        "        self.dropout = nn.Dropout(dropout)\n",
        "\n",
        "    def forward(self, x):\n",
        "        # x => [batch size, seq len, emb dim]\n",
        "        x, (hidden, cell) = self.lstm(x)\n",
        "        if self.lstm.bidirectional:\n",
        "            x = self.dropout(torch.cat((hidden[-2,:,:], hidden[-1,:,:]), dim=1))\n",
        "        else:\n",
        "            x = self.dropout(hidden[-1,:,:])\n",
        "        x = self.fc(x)\n",
        "        return x\n"
      ],
      "metadata": {
        "id": "oeUHS2-TuOj-"
      },
      "execution_count": 27,
      "outputs": []
    },
    {
      "cell_type": "code",
      "source": [
        "embedding_dim = 768  # Assuming you're using BERT-base\n",
        "hidden_dim = 256\n",
        "output_dim = 1  # Binary classification\n",
        "n_layers = 2\n",
        "bidirectional = True\n",
        "dropout = 0.5\n",
        "\n",
        "model = LSTMModel(embedding_dim, hidden_dim, output_dim, n_layers, bidirectional, dropout).to(device)\n",
        "optimizer = torch.optim.Adam(model.parameters(), lr=config['lr'])\n",
        "criterion = nn.BCEWithLogitsLoss().to(device)\n"
      ],
      "metadata": {
        "id": "pr6KyIv6wuRK"
      },
      "execution_count": 28,
      "outputs": []
    },
    {
      "cell_type": "code",
      "source": [
        "from tqdm import tqdm\n",
        "import numpy as np\n",
        "\n",
        "def train_model(model, train_loader, optimizer, criterion, device):\n",
        "    model.train()\n",
        "    total_loss = 0.0\n",
        "    total_correct = 0\n",
        "    all_predictions = []\n",
        "    all_labels = []\n",
        "\n",
        "    # Initialize tqdm progress bar\n",
        "    batch_bar = tqdm(total=len(train_loader), dynamic_ncols=True, position=0, leave=False, desc='Train')\n",
        "\n",
        "    for X, y in train_loader:\n",
        "        X, y = X.to(device), y.to(device)\n",
        "        optimizer.zero_grad()\n",
        "\n",
        "        # Forward pass\n",
        "        y_pred = model(X).squeeze(1)\n",
        "        loss = criterion(y_pred, y.float())\n",
        "\n",
        "        # Backward pass and optimization\n",
        "        loss.backward()\n",
        "        optimizer.step()\n",
        "\n",
        "        # Update total loss and accuracy\n",
        "        total_loss += loss.item()\n",
        "        predicted = torch.sigmoid(y_pred) > 0.5\n",
        "        total_correct += torch.sum(predicted == y).item()\n",
        "\n",
        "        # Collect predictions and true labels\n",
        "        all_predictions.extend(predicted.int().cpu().numpy())\n",
        "        all_labels.extend(y.cpu().numpy())\n",
        "\n",
        "        # Update tqdm bar\n",
        "        batch_bar.set_postfix(\n",
        "            acc=\"{:.04f}%\".format(100 * total_correct / (len(all_predictions))),\n",
        "            loss=\"{:.04f}\".format(total_loss / (len(all_predictions) / X.size(0))),\n",
        "            lr=\"{:.04f}\".format(float(optimizer.param_groups[0]['lr']))\n",
        "        )\n",
        "        batch_bar.update()\n",
        "\n",
        "    batch_bar.close()\n",
        "\n",
        "    # Calculate average loss and accuracy\n",
        "    avg_loss = total_loss / len(train_loader)\n",
        "    avg_acc = total_correct / (len(all_predictions))\n",
        "\n",
        "    return avg_loss, avg_acc, np.array(all_predictions), np.array(all_labels)\n"
      ],
      "metadata": {
        "id": "k6-rLFwGw0O5"
      },
      "execution_count": 41,
      "outputs": []
    },
    {
      "cell_type": "code",
      "source": [
        "def evaluate_model(model, val_loader, criterion, device):\n",
        "    model.eval()\n",
        "    total_loss = 0.0\n",
        "    total_correct = 0\n",
        "    all_predictions = []\n",
        "    all_labels = []\n",
        "\n",
        "    with torch.no_grad():\n",
        "        for X, y in val_loader:\n",
        "            X, y = X.to(device), y.to(device)\n",
        "            predictions = model(X).squeeze(1)\n",
        "            loss = criterion(predictions, y.float())\n",
        "\n",
        "            total_loss += loss.item()\n",
        "            predicted = torch.sigmoid(predictions) > 0.5\n",
        "            total_correct += torch.sum(predicted == y).item()\n",
        "\n",
        "            all_predictions.extend(predicted.int().cpu().numpy())\n",
        "            all_labels.extend(y.cpu().numpy())\n",
        "\n",
        "    avg_loss = total_loss / len(val_loader)\n",
        "    avg_acc = total_correct / (len(all_predictions))\n",
        "\n",
        "    return avg_loss, avg_acc, np.array(all_predictions), np.array(all_labels)\n"
      ],
      "metadata": {
        "id": "nXtn2ZOSw2Xu"
      },
      "execution_count": 49,
      "outputs": []
    },
    {
      "cell_type": "markdown",
      "source": [
        "###Training loop..."
      ],
      "metadata": {
        "id": "jWguJxI7Uc8V"
      }
    },
    {
      "cell_type": "code",
      "source": [
        "train_losses = []\n",
        "train_accuracies = []\n",
        "train_precision =[]\n",
        "train_recall=[]\n",
        "\n",
        "val_losses = []\n",
        "val_accuracies = []\n",
        "val_precision =[]\n",
        "val_recall=[]\n",
        "\n",
        "for epoch in range(config['epochs']):\n",
        "    train_loss, train_acc, train_predictions, train_true_labels = train_model(model, train_loader, optimizer, criterion,device)\n",
        "\n",
        "    # Append the metrics to their respective lists\n",
        "    train_losses.append(train_loss)\n",
        "    train_accuracies.append(train_acc)\n",
        "    train_p=precision_score(train_predictions, train_true_labels)\n",
        "    train_r=recall_score(train_predictions, train_true_labels)\n",
        "    train_precision.append(train_p)\n",
        "    train_recall.append(train_r)\n",
        "\n",
        "    print(f'Epoch: {epoch+1}, Train Loss: {train_loss:.3f}, Train Acc: {train_acc:.3f}, Train Precision: {train_p:.3f}, Train Recall: {train_r:.3f}')\n",
        "\n",
        "    val_loss, val_acc, val_predictions, val_true_labels = evaluate_model(model, val_loader, criterion,device)\n",
        "    val_losses.append(val_loss)\n",
        "    val_accuracies.append(val_acc)\n",
        "    val_p=precision_score(val_predictions, val_true_labels)\n",
        "    val_r=recall_score(val_predictions, val_true_labels)\n",
        "    val_precision.append(val_p)\n",
        "    val_recall.append(val_r)\n",
        "\n",
        "    print(f'Val Loss: {val_loss:.3f}, Val Acc: {val_acc:.3f}, Val Precision: {val_p:.3f}, Val Recall: {val_r:.3f}')\n"
      ],
      "metadata": {
        "colab": {
          "base_uri": "https://localhost:8080/"
        },
        "id": "T1n6Wyopw3vc",
        "outputId": "1f1bbb1a-de77-4425-e391-502f858a2f90"
      },
      "execution_count": 51,
      "outputs": [
        {
          "output_type": "stream",
          "name": "stderr",
          "text": []
        },
        {
          "output_type": "stream",
          "name": "stdout",
          "text": [
            "Epoch: 1, Train Loss: 0.635, Train Acc: 0.618, Train Precision: 0.500, Train Recall: 0.654\n",
            "Val Loss: 0.585, Val Acc: 0.810, Val Precision: 0.535, Val Recall: 0.160\n"
          ]
        },
        {
          "output_type": "stream",
          "name": "stderr",
          "text": []
        },
        {
          "output_type": "stream",
          "name": "stdout",
          "text": [
            "Epoch: 2, Train Loss: 0.629, Train Acc: 0.624, Train Precision: 0.515, Train Recall: 0.659\n",
            "Val Loss: 0.576, Val Acc: 0.826, Val Precision: 0.524, Val Recall: 0.173\n"
          ]
        },
        {
          "output_type": "stream",
          "name": "stderr",
          "text": []
        },
        {
          "output_type": "stream",
          "name": "stdout",
          "text": [
            "Epoch: 3, Train Loss: 0.620, Train Acc: 0.637, Train Precision: 0.534, Train Recall: 0.673\n",
            "Val Loss: 0.586, Val Acc: 0.799, Val Precision: 0.629, Val Recall: 0.170\n"
          ]
        },
        {
          "output_type": "stream",
          "name": "stderr",
          "text": []
        },
        {
          "output_type": "stream",
          "name": "stdout",
          "text": [
            "Epoch: 4, Train Loss: 0.614, Train Acc: 0.643, Train Precision: 0.560, Train Recall: 0.672\n",
            "Val Loss: 0.612, Val Acc: 0.764, Val Precision: 0.637, Val Recall: 0.147\n"
          ]
        },
        {
          "output_type": "stream",
          "name": "stderr",
          "text": []
        },
        {
          "output_type": "stream",
          "name": "stdout",
          "text": [
            "Epoch: 5, Train Loss: 0.605, Train Acc: 0.652, Train Precision: 0.565, Train Recall: 0.684\n",
            "Val Loss: 0.657, Val Acc: 0.671, Val Precision: 0.657, Val Recall: 0.110\n"
          ]
        },
        {
          "output_type": "stream",
          "name": "stderr",
          "text": []
        },
        {
          "output_type": "stream",
          "name": "stdout",
          "text": [
            "Epoch: 6, Train Loss: 0.600, Train Acc: 0.657, Train Precision: 0.584, Train Recall: 0.683\n",
            "Val Loss: 0.559, Val Acc: 0.785, Val Precision: 0.548, Val Recall: 0.145\n"
          ]
        },
        {
          "output_type": "stream",
          "name": "stderr",
          "text": []
        },
        {
          "output_type": "stream",
          "name": "stdout",
          "text": [
            "Epoch: 7, Train Loss: 0.593, Train Acc: 0.665, Train Precision: 0.595, Train Recall: 0.691\n",
            "Val Loss: 0.575, Val Acc: 0.752, Val Precision: 0.557, Val Recall: 0.127\n"
          ]
        },
        {
          "output_type": "stream",
          "name": "stderr",
          "text": []
        },
        {
          "output_type": "stream",
          "name": "stdout",
          "text": [
            "Epoch: 8, Train Loss: 0.585, Train Acc: 0.673, Train Precision: 0.612, Train Recall: 0.697\n",
            "Val Loss: 0.648, Val Acc: 0.677, Val Precision: 0.640, Val Recall: 0.110\n"
          ]
        },
        {
          "output_type": "stream",
          "name": "stderr",
          "text": []
        },
        {
          "output_type": "stream",
          "name": "stdout",
          "text": [
            "Epoch: 9, Train Loss: 0.579, Train Acc: 0.680, Train Precision: 0.622, Train Recall: 0.703\n",
            "Val Loss: 0.675, Val Acc: 0.629, Val Precision: 0.643, Val Recall: 0.097\n"
          ]
        },
        {
          "output_type": "stream",
          "name": "stderr",
          "text": []
        },
        {
          "output_type": "stream",
          "name": "stdout",
          "text": [
            "Epoch: 10, Train Loss: 0.572, Train Acc: 0.685, Train Precision: 0.638, Train Recall: 0.704\n",
            "Val Loss: 0.565, Val Acc: 0.764, Val Precision: 0.515, Val Recall: 0.126\n"
          ]
        },
        {
          "output_type": "stream",
          "name": "stderr",
          "text": []
        },
        {
          "output_type": "stream",
          "name": "stdout",
          "text": [
            "Epoch: 11, Train Loss: 0.567, Train Acc: 0.688, Train Precision: 0.649, Train Recall: 0.704\n",
            "Val Loss: 0.500, Val Acc: 0.819, Val Precision: 0.438, Val Recall: 0.147\n"
          ]
        },
        {
          "output_type": "stream",
          "name": "stderr",
          "text": []
        },
        {
          "output_type": "stream",
          "name": "stdout",
          "text": [
            "Epoch: 12, Train Loss: 0.559, Train Acc: 0.696, Train Precision: 0.664, Train Recall: 0.710\n",
            "Val Loss: 0.668, Val Acc: 0.651, Val Precision: 0.637, Val Recall: 0.102\n"
          ]
        },
        {
          "output_type": "stream",
          "name": "stderr",
          "text": []
        },
        {
          "output_type": "stream",
          "name": "stdout",
          "text": [
            "Epoch: 13, Train Loss: 0.553, Train Acc: 0.701, Train Precision: 0.674, Train Recall: 0.712\n",
            "Val Loss: 0.545, Val Acc: 0.769, Val Precision: 0.537, Val Recall: 0.133\n"
          ]
        },
        {
          "output_type": "stream",
          "name": "stderr",
          "text": []
        },
        {
          "output_type": "stream",
          "name": "stdout",
          "text": [
            "Epoch: 14, Train Loss: 0.548, Train Acc: 0.701, Train Precision: 0.681, Train Recall: 0.709\n",
            "Val Loss: 0.555, Val Acc: 0.750, Val Precision: 0.582, Val Recall: 0.131\n"
          ]
        },
        {
          "output_type": "stream",
          "name": "stderr",
          "text": []
        },
        {
          "output_type": "stream",
          "name": "stdout",
          "text": [
            "Epoch: 15, Train Loss: 0.542, Train Acc: 0.709, Train Precision: 0.691, Train Recall: 0.716\n",
            "Val Loss: 0.521, Val Acc: 0.781, Val Precision: 0.463, Val Recall: 0.126\n"
          ]
        },
        {
          "output_type": "stream",
          "name": "stderr",
          "text": []
        },
        {
          "output_type": "stream",
          "name": "stdout",
          "text": [
            "Epoch: 16, Train Loss: 0.537, Train Acc: 0.709, Train Precision: 0.700, Train Recall: 0.713\n",
            "Val Loss: 0.606, Val Acc: 0.688, Val Precision: 0.568, Val Recall: 0.103\n"
          ]
        },
        {
          "output_type": "stream",
          "name": "stderr",
          "text": []
        },
        {
          "output_type": "stream",
          "name": "stdout",
          "text": [
            "Epoch: 17, Train Loss: 0.532, Train Acc: 0.715, Train Precision: 0.710, Train Recall: 0.717\n",
            "Val Loss: 0.533, Val Acc: 0.760, Val Precision: 0.535, Val Recall: 0.128\n"
          ]
        },
        {
          "output_type": "stream",
          "name": "stderr",
          "text": []
        },
        {
          "output_type": "stream",
          "name": "stdout",
          "text": [
            "Epoch: 18, Train Loss: 0.526, Train Acc: 0.717, Train Precision: 0.720, Train Recall: 0.716\n",
            "Val Loss: 0.544, Val Acc: 0.726, Val Precision: 0.485, Val Recall: 0.104\n"
          ]
        },
        {
          "output_type": "stream",
          "name": "stderr",
          "text": []
        },
        {
          "output_type": "stream",
          "name": "stdout",
          "text": [
            "Epoch: 19, Train Loss: 0.521, Train Acc: 0.717, Train Precision: 0.725, Train Recall: 0.713\n",
            "Val Loss: 0.568, Val Acc: 0.719, Val Precision: 0.551, Val Recall: 0.112\n"
          ]
        },
        {
          "output_type": "stream",
          "name": "stderr",
          "text": []
        },
        {
          "output_type": "stream",
          "name": "stdout",
          "text": [
            "Epoch: 20, Train Loss: 0.516, Train Acc: 0.722, Train Precision: 0.737, Train Recall: 0.716\n",
            "Val Loss: 0.539, Val Acc: 0.719, Val Precision: 0.532, Val Recall: 0.109\n"
          ]
        },
        {
          "output_type": "stream",
          "name": "stderr",
          "text": []
        },
        {
          "output_type": "stream",
          "name": "stdout",
          "text": [
            "Epoch: 21, Train Loss: 0.511, Train Acc: 0.724, Train Precision: 0.746, Train Recall: 0.715\n",
            "Val Loss: 0.576, Val Acc: 0.691, Val Precision: 0.551, Val Recall: 0.102\n"
          ]
        },
        {
          "output_type": "stream",
          "name": "stderr",
          "text": []
        },
        {
          "output_type": "stream",
          "name": "stdout",
          "text": [
            "Epoch: 22, Train Loss: 0.510, Train Acc: 0.725, Train Precision: 0.752, Train Recall: 0.713\n",
            "Val Loss: 0.478, Val Acc: 0.796, Val Precision: 0.507, Val Recall: 0.144\n"
          ]
        },
        {
          "output_type": "stream",
          "name": "stderr",
          "text": []
        },
        {
          "output_type": "stream",
          "name": "stdout",
          "text": [
            "Epoch: 23, Train Loss: 0.503, Train Acc: 0.726, Train Precision: 0.759, Train Recall: 0.713\n",
            "Val Loss: 0.501, Val Acc: 0.769, Val Precision: 0.499, Val Recall: 0.126\n"
          ]
        },
        {
          "output_type": "stream",
          "name": "stderr",
          "text": []
        },
        {
          "output_type": "stream",
          "name": "stdout",
          "text": [
            "Epoch: 24, Train Loss: 0.499, Train Acc: 0.729, Train Precision: 0.768, Train Recall: 0.713\n",
            "Val Loss: 0.527, Val Acc: 0.745, Val Precision: 0.554, Val Recall: 0.124\n"
          ]
        },
        {
          "output_type": "stream",
          "name": "stderr",
          "text": []
        },
        {
          "output_type": "stream",
          "name": "stdout",
          "text": [
            "Epoch: 25, Train Loss: 0.493, Train Acc: 0.732, Train Precision: 0.773, Train Recall: 0.714\n",
            "Val Loss: 0.462, Val Acc: 0.776, Val Precision: 0.468, Val Recall: 0.124\n"
          ]
        },
        {
          "output_type": "stream",
          "name": "stderr",
          "text": []
        },
        {
          "output_type": "stream",
          "name": "stdout",
          "text": [
            "Epoch: 26, Train Loss: 0.491, Train Acc: 0.736, Train Precision: 0.782, Train Recall: 0.715\n",
            "Val Loss: 0.565, Val Acc: 0.690, Val Precision: 0.560, Val Recall: 0.103\n"
          ]
        },
        {
          "output_type": "stream",
          "name": "stderr",
          "text": []
        },
        {
          "output_type": "stream",
          "name": "stdout",
          "text": [
            "Epoch: 27, Train Loss: 0.486, Train Acc: 0.735, Train Precision: 0.786, Train Recall: 0.713\n",
            "Val Loss: 0.616, Val Acc: 0.653, Val Precision: 0.612, Val Recall: 0.099\n"
          ]
        },
        {
          "output_type": "stream",
          "name": "stderr",
          "text": []
        },
        {
          "output_type": "stream",
          "name": "stdout",
          "text": [
            "Epoch: 28, Train Loss: 0.485, Train Acc: 0.735, Train Precision: 0.791, Train Recall: 0.711\n",
            "Val Loss: 0.505, Val Acc: 0.756, Val Precision: 0.479, Val Recall: 0.116\n"
          ]
        },
        {
          "output_type": "stream",
          "name": "stderr",
          "text": []
        },
        {
          "output_type": "stream",
          "name": "stdout",
          "text": [
            "Epoch: 29, Train Loss: 0.483, Train Acc: 0.735, Train Precision: 0.791, Train Recall: 0.711\n",
            "Val Loss: 0.542, Val Acc: 0.709, Val Precision: 0.543, Val Recall: 0.107\n"
          ]
        },
        {
          "output_type": "stream",
          "name": "stderr",
          "text": []
        },
        {
          "output_type": "stream",
          "name": "stdout",
          "text": [
            "Epoch: 30, Train Loss: 0.478, Train Acc: 0.738, Train Precision: 0.804, Train Recall: 0.710\n",
            "Val Loss: 0.557, Val Acc: 0.706, Val Precision: 0.540, Val Recall: 0.105\n"
          ]
        }
      ]
    },
    {
      "cell_type": "markdown",
      "source": [
        "###Visualizations"
      ],
      "metadata": {
        "id": "6stEba9bUgqR"
      }
    },
    {
      "cell_type": "code",
      "source": [
        "fig, ax = plt.subplots(1, 2, figsize=(20, 8), dpi=120)\n",
        "\n",
        "# Training Plot\n",
        "ax1 = ax[0]\n",
        "ax1.plot(train_losses, label='Loss', color='blue')\n",
        "ax1.set_ylabel(\"Loss\", color='blue')\n",
        "ax1.set_xlabel(\"Epoch\")\n",
        "ax1.set_title(\"Training plot\")\n",
        "ax1.tick_params(axis='y', labelcolor='blue')\n",
        "\n",
        "# Create a second y-axis for the accuracy\n",
        "ax2 = ax1.twinx()\n",
        "ax2.plot(train_accuracies, label='Accuracy', color='green')\n",
        "ax2.set_ylabel(\"Accuracy\", color='green')\n",
        "ax2.tick_params(axis='y', labelcolor='green')\n",
        "\n",
        "# Validation Plot\n",
        "ax3 = ax[1]\n",
        "ax3.plot(val_losses, label='Loss', color='blue')\n",
        "ax3.set_ylabel(\"Loss\", color='blue')\n",
        "ax3.set_xlabel(\"Epoch\")\n",
        "ax3.set_title(\"Validation plot\")\n",
        "ax3.tick_params(axis='y', labelcolor='blue')\n",
        "\n",
        "# Create a second y-axis for the accuracy\n",
        "ax4 = ax3.twinx()\n",
        "ax4.plot(val_accuracies, label='Accuracy', color='green')\n",
        "ax4.set_ylabel(\"Accuracy\", color='green')\n",
        "ax4.tick_params(axis='y', labelcolor='green')\n",
        "\n",
        "# Adding legends\n",
        "ax1.legend(loc='upper left')\n",
        "ax2.legend(loc='upper right')\n",
        "ax3.legend(loc='upper left')\n",
        "ax4.legend(loc='upper right')\n",
        "\n",
        "plt.show()"
      ],
      "metadata": {
        "colab": {
          "base_uri": "https://localhost:8080/",
          "height": 524
        },
        "id": "dpNb1O1cHPuM",
        "outputId": "30e16a5d-79ac-47a0-f499-9a2c2f47676a"
      },
      "execution_count": 65,
      "outputs": [
        {
          "output_type": "display_data",
          "data": {
            "text/plain": [
              "<Figure size 2400x960 with 4 Axes>"
            ],
            "image/png": "[encoded data removed]"
          },
          "metadata": {}
        }
      ]
    },
    {
      "cell_type": "code",
      "source": [
        "average_train_precision = np.mean(train_precision)\n",
        "average_train_recall = np.mean(train_recall)\n",
        "average_val_precision = np.mean(val_precision)\n",
        "average_val_recall = np.mean(val_recall)\n",
        "\n",
        "print(f\"Average Train Precision: {average_train_precision:.4f}\")\n",
        "print(f\"Average Train Recall: {average_train_recall:.4f}\")\n",
        "print(f\"Average Validation Precision: {average_val_precision:.4f}\")\n",
        "print(f\"Average Validation Recall: {average_val_recall:.4f}\")\n"
      ],
      "metadata": {
        "colab": {
          "base_uri": "https://localhost:8080/"
        },
        "id": "qsCMJXR6LMXl",
        "outputId": "8152d93a-3653-4697-e358-62470b48808e"
      },
      "execution_count": 58,
      "outputs": [
        {
          "output_type": "stream",
          "name": "stdout",
          "text": [
            "Average Train Precision: 0.6809\n",
            "Average Train Recall: 0.7025\n",
            "Average Validation Precision: 0.5508\n",
            "Average Validation Recall: 0.1236\n"
          ]
        }
      ]
    },
    {
      "cell_type": "code",
      "source": [
        "fig, ax = plt.subplots(1, 2, figsize=(20, 8), dpi=120)\n",
        "\n",
        "# Training Plot\n",
        "ax1 = ax[0]\n",
        "ax1.plot(train_precision, label='Precision', color='blue')\n",
        "ax1.plot(train_recall, label='Recall', color='green')\n",
        "ax1.set_ylabel(\"Precision\", color='blue')\n",
        "ax1.set_xlabel(\"Epoch\")\n",
        "ax1.set_title(\"Training plot\")\n",
        "ax1.tick_params(axis='y', labelcolor='blue')\n",
        "\n",
        "\n",
        "# Validation Plot\n",
        "ax3 = ax[1]\n",
        "ax3.plot(val_precision, label='Precision', color='blue')\n",
        "ax3.plot(val_recall, label='Recall', color='green')\n",
        "ax3.set_ylabel(\"Precision\", color='blue')\n",
        "ax3.set_xlabel(\"Epoch\")\n",
        "ax3.set_title(\"Validation plot\")\n",
        "ax3.tick_params(axis='y', labelcolor='blue')\n",
        "\n",
        "plt.legend()\n",
        "\n",
        "plt.show()"
      ],
      "metadata": {
        "colab": {
          "base_uri": "https://localhost:8080/",
          "height": 549
        },
        "id": "fmXyV18vHQwA",
        "outputId": "66098fe0-7b0b-4905-821d-14a5bae7781c"
      },
      "execution_count": 53,
      "outputs": [
        {
          "output_type": "display_data",
          "data": {
            "text/plain": [
              "<Figure size 2400x960 with 2 Axes>"
            ],
            "image/png": "[encoded data removed]"
          },
          "metadata": {}
        }
      ]
    },
    {
      "cell_type": "markdown",
      "source": [
        "###Comparison with classic MLs"
      ],
      "metadata": {
        "id": "qSMViUgSUkis"
      }
    },
    {
      "cell_type": "code",
      "source": [
        "from sklearn.model_selection import train_test_split\n",
        "from sklearn.ensemble import RandomForestClassifier\n",
        "from sklearn.metrics import accuracy_score, classification_report\n",
        "\n",
        "X_train = np.array([np.array(x) for x in X_train])[:,0]\n",
        "X_test = np.array([np.array(x) for x in X_test])[:,0]\n",
        "\n",
        "rf_classifier = RandomForestClassifier(n_estimators=100, random_state=42)\n",
        "rf_classifier.fit(X_train, y_train)\n",
        "\n",
        "y_pred = rf_classifier.predict(X_test)\n",
        "\n",
        "# Evaluate the model\n",
        "accuracy = accuracy_score(y_test, y_pred)\n",
        "report = classification_report(y_test, y_pred)\n",
        "\n",
        "# Print the results\n",
        "print(\"Accuracy:\", accuracy)\n",
        "print(\"Classification Report:\")\n",
        "print(report)\n"
      ],
      "metadata": {
        "colab": {
          "base_uri": "https://localhost:8080/"
        },
        "id": "AB9bv2Xf1x5C",
        "outputId": "65c262dc-25f3-466a-cba8-727daa6277f4"
      },
      "execution_count": 54,
      "outputs": [
        {
          "output_type": "stream",
          "name": "stdout",
          "text": [
            "Accuracy: 0.9191413815364752\n",
            "Classification Report:\n",
            "              precision    recall  f1-score   support\n",
            "\n",
            "           0       0.97      0.95      0.96      5835\n",
            "           1       0.35      0.45      0.39       361\n",
            "\n",
            "    accuracy                           0.92      6196\n",
            "   macro avg       0.66      0.70      0.67      6196\n",
            "weighted avg       0.93      0.92      0.92      6196\n",
            "\n"
          ]
        }
      ]
    },
    {
      "cell_type": "code",
      "source": [
        "import xgboost as xgb\n",
        "xgb_classifier = xgb.XGBClassifier(\n",
        "    max_depth=3,  # Maximum depth of each tree\n",
        "    learning_rate=0.1,  # Learning rate (adjust as needed)\n",
        "    n_estimators=100  # Number of boosting rounds (trees)\n",
        ")\n",
        "xgb_classifier.fit(X_train, y_train)\n",
        "y_pred = xgb_classifier.predict(X_test)\n",
        "\n",
        "accuracy = accuracy_score(y_test, y_pred)\n",
        "report = classification_report(y_test, y_pred)\n",
        "\n",
        "print(\"Accuracy:\", accuracy)\n",
        "print(\"Classification Report:\")\n",
        "print(report)\n",
        ""
      ],
      "metadata": {
        "colab": {
          "base_uri": "https://localhost:8080/"
        },
        "id": "RKHsc4Ga3t4h",
        "outputId": "3b3c8b72-5cf8-4fb1-ce74-b1dd86b0715b"
      },
      "execution_count": 55,
      "outputs": [
        {
          "output_type": "stream",
          "name": "stdout",
          "text": [
            "Accuracy: 0.7913169786959329\n",
            "Classification Report:\n",
            "              precision    recall  f1-score   support\n",
            "\n",
            "           0       0.98      0.79      0.88      5835\n",
            "           1       0.18      0.73      0.29       361\n",
            "\n",
            "    accuracy                           0.79      6196\n",
            "   macro avg       0.58      0.76      0.58      6196\n",
            "weighted avg       0.93      0.79      0.84      6196\n",
            "\n"
          ]
        }
      ]
    },
    {
      "cell_type": "code",
      "source": [
        "from sklearn.linear_model import LogisticRegression\n",
        "from sklearn.metrics import accuracy_score, classification_report\n",
        "\n",
        "# Initialize the Logistic Regression model\n",
        "# Note: You might need to adjust the `max_iter` parameter for convergence depending on your dataset\n",
        "log_reg = LogisticRegression(max_iter=1000)\n",
        "\n",
        "# Fit the model to the training data\n",
        "log_reg.fit(X_train, y_train)\n",
        "\n",
        "# Make predictions on the test set\n",
        "y_pred_lr = log_reg.predict(X_test)\n",
        "\n",
        "# Evaluate the model\n",
        "accuracy_lr = accuracy_score(y_test, y_pred_lr)\n",
        "report_lr = classification_report(y_test, y_pred_lr)\n",
        "\n",
        "print(\"Accuracy:\", accuracy_lr)\n",
        "print(\"Classification Report:\")\n",
        "print(report_lr)\n"
      ],
      "metadata": {
        "colab": {
          "base_uri": "https://localhost:8080/"
        },
        "id": "MBTqvGEe4a6Q",
        "outputId": "765861c6-c509-4b73-c110-1c5e11c1e545"
      },
      "execution_count": 59,
      "outputs": [
        {
          "output_type": "stream",
          "name": "stdout",
          "text": [
            "Accuracy: 0.6672046481601033\n",
            "Classification Report:\n",
            "              precision    recall  f1-score   support\n",
            "\n",
            "           0       0.98      0.66      0.79      5835\n",
            "           1       0.13      0.79      0.22       361\n",
            "\n",
            "    accuracy                           0.67      6196\n",
            "   macro avg       0.55      0.72      0.50      6196\n",
            "weighted avg       0.93      0.67      0.76      6196\n",
            "\n"
          ]
        }
      ]
    },
    {
      "cell_type": "code",
      "source": [
        "data = {\n",
        "    'Model': ['LSTM', 'XGBoost', 'Random Forest', 'Logistic Regression'],\n",
        "    'Precision': [0.5508, 0.18, 0.35, 0.13],  # Using macro avg precision for XGBoost and Random Forest\n",
        "    'Recall': [0.1236, 0.73, 0.45, 0.79 ],  # Using macro avg recall for XGBoost and Random Forest\n",
        "}\n",
        "\n",
        "df_performance = pd.DataFrame(data)\n",
        "\n",
        "df_performance.transpose()\n"
      ],
      "metadata": {
        "colab": {
          "base_uri": "https://localhost:8080/",
          "height": 143
        },
        "id": "ISFuA6jBLyXU",
        "outputId": "86747e11-0d45-42cc-a4ca-5af3a2c63c80"
      },
      "execution_count": 64,
      "outputs": [
        {
          "output_type": "execute_result",
          "data": {
            "text/plain": [
              "                0        1              2                    3\n",
              "Model        LSTM  XGBoost  Random Forest  Logistic Regression\n",
              "Precision  0.5508     0.18           0.35                 0.13\n",
              "Recall     0.1236     0.73           0.45                 0.79"
            ],
            "text/html": [
              "\n",
              "  <div id=\"df-7b3277cf-ac4c-46c0-83f8-1500acdd4614\" class=\"colab-df-container\">\n",
              "    <div>\n",
              "<style scoped>\n",
              "    .dataframe tbody tr th:only-of-type {\n",
              "        vertical-align: middle;\n",
              "    }\n",
              "\n",
              "    .dataframe tbody tr th {\n",
              "        vertical-align: top;\n",
              "    }\n",
              "\n",
              "    .dataframe thead th {\n",
              "        text-align: right;\n",
              "    }\n",
              "</style>\n",
              "<table border=\"1\" class=\"dataframe\">\n",
              "  <thead>\n",
              "    <tr style=\"text-align: right;\">\n",
              "      <th></th>\n",
              "      <th>0</th>\n",
              "      <th>1</th>\n",
              "      <th>2</th>\n",
              "      <th>3</th>\n",
              "    </tr>\n",
              "  </thead>\n",
              "  <tbody>\n",
              "    <tr>\n",
              "      <th>Model</th>\n",
              "      <td>LSTM</td>\n",
              "      <td>XGBoost</td>\n",
              "      <td>Random Forest</td>\n",
              "      <td>Logistic Regression</td>\n",
              "    </tr>\n",
              "    <tr>\n",
              "      <th>Precision</th>\n",
              "      <td>0.5508</td>\n",
              "      <td>0.18</td>\n",
              "      <td>0.35</td>\n",
              "      <td>0.13</td>\n",
              "    </tr>\n",
              "    <tr>\n",
              "      <th>Recall</th>\n",
              "      <td>0.1236</td>\n",
              "      <td>0.73</td>\n",
              "      <td>0.45</td>\n",
              "      <td>0.79</td>\n",
              "    </tr>\n",
              "  </tbody>\n",
              "</table>\n",
              "</div>\n",
              "    <div class=\"colab-df-buttons\">\n",
              "\n",
              "  <div class=\"colab-df-container\">\n",
              "    <button class=\"colab-df-convert\" onclick=\"convertToInteractive('df-7b3277cf-ac4c-46c0-83f8-1500acdd4614')\"\n",
              "            title=\"Convert this dataframe to an interactive table.\"\n",
              "            style=\"display:none;\">\n",
              "\n",
              "  <svg xmlns=\"http://www.w3.org/2000/svg\" height=\"24px\" viewBox=\"0 -960 960 960\">\n",
              "    <path d=\"M120-120v-720h720v720H120Zm60-500h600v-160H180v160Zm220 220h160v-160H400v160Zm0 220h160v-160H400v160ZM180-400h160v-160H180v160Zm440 0h160v-160H620v160ZM180-180h160v-160H180v160Zm440 0h160v-160H620v160Z\"/>\n",
              "  </svg>\n",
              "    </button>\n",
              "\n",
              "  <style>\n",
              "    .colab-df-container {\n",
              "      display:flex;\n",
              "      gap: 12px;\n",
              "    }\n",
              "\n",
              "    .colab-df-convert {\n",
              "      background-color: #E8F0FE;\n",
              "      border: none;\n",
              "      border-radius: 50%;\n",
              "      cursor: pointer;\n",
              "      display: none;\n",
              "      fill: #1967D2;\n",
              "      height: 32px;\n",
              "      padding: 0 0 0 0;\n",
              "      width: 32px;\n",
              "    }\n",
              "\n",
              "    .colab-df-convert:hover {\n",
              "      background-color: #E2EBFA;\n",
              "      box-shadow: 0px 1px 2px rgba(60, 64, 67, 0.3), 0px 1px 3px 1px rgba(60, 64, 67, 0.15);\n",
              "      fill: #174EA6;\n",
              "    }\n",
              "\n",
              "    .colab-df-buttons div {\n",
              "      margin-bottom: 4px;\n",
              "    }\n",
              "\n",
              "    [theme=dark] .colab-df-convert {\n",
              "      background-color: #3B4455;\n",
              "      fill: #D2E3FC;\n",
              "    }\n",
              "\n",
              "    [theme=dark] .colab-df-convert:hover {\n",
              "      background-color: #434B5C;\n",
              "      box-shadow: 0px 1px 3px 1px rgba(0, 0, 0, 0.15);\n",
              "      filter: drop-shadow(0px 1px 2px rgba(0, 0, 0, 0.3));\n",
              "      fill: #FFFFFF;\n",
              "    }\n",
              "  </style>\n",
              "\n",
              "    <script>\n",
              "      const buttonEl =\n",
              "        document.querySelector('#df-7b3277cf-ac4c-46c0-83f8-1500acdd4614 button.colab-df-convert');\n",
              "      buttonEl.style.display =\n",
              "        google.colab.kernel.accessAllowed ? 'block' : 'none';\n",
              "\n",
              "      async function convertToInteractive(key) {\n",
              "        const element = document.querySelector('#df-7b3277cf-ac4c-46c0-83f8-1500acdd4614');\n",
              "        const dataTable =\n",
              "          await google.colab.kernel.invokeFunction('convertToInteractive',\n",
              "                                                    [key], {});\n",
              "        if (!dataTable) return;\n",
              "\n",
              "        const docLinkHtml = 'Like what you see? Visit the ' +\n",
              "          '<a target=\"_blank\" href=https://colab.research.google.com/notebooks/data_table.ipynb>data table notebook</a>'\n",
              "          + ' to learn more about interactive tables.';\n",
              "        element.innerHTML = '';\n",
              "        dataTable['output_type'] = 'display_data';\n",
              "        await google.colab.output.renderOutput(dataTable, element);\n",
              "        const docLink = document.createElement('div');\n",
              "        docLink.innerHTML = docLinkHtml;\n",
              "        element.appendChild(docLink);\n",
              "      }\n",
              "    </script>\n",
              "  </div>\n",
              "\n",
              "\n",
              "<div id=\"df-d3a34e24-80a3-467f-aa97-3da727c267b2\">\n",
              "  <button class=\"colab-df-quickchart\" onclick=\"quickchart('df-d3a34e24-80a3-467f-aa97-3da727c267b2')\"\n",
              "            title=\"Suggest charts\"\n",
              "            style=\"display:none;\">\n",
              "\n",
              "<svg xmlns=\"http://www.w3.org/2000/svg\" height=\"24px\"viewBox=\"0 0 24 24\"\n",
              "     width=\"24px\">\n",
              "    <g>\n",
              "        <path d=\"M19 3H5c-1.1 0-2 .9-2 2v14c0 1.1.9 2 2 2h14c1.1 0 2-.9 2-2V5c0-1.1-.9-2-2-2zM9 17H7v-7h2v7zm4 0h-2V7h2v10zm4 0h-2v-4h2v4z\"/>\n",
              "    </g>\n",
              "</svg>\n",
              "  </button>\n",
              "\n",
              "<style>\n",
              "  .colab-df-quickchart {\n",
              "      --bg-color: #E8F0FE;\n",
              "      --fill-color: #1967D2;\n",
              "      --hover-bg-color: #E2EBFA;\n",
              "      --hover-fill-color: #174EA6;\n",
              "      --disabled-fill-color: #AAA;\n",
              "      --disabled-bg-color: #DDD;\n",
              "  }\n",
              "\n",
              "  [theme=dark] .colab-df-quickchart {\n",
              "      --bg-color: #3B4455;\n",
              "      --fill-color: #D2E3FC;\n",
              "      --hover-bg-color: #434B5C;\n",
              "      --hover-fill-color: #FFFFFF;\n",
              "      --disabled-bg-color: #3B4455;\n",
              "      --disabled-fill-color: #666;\n",
              "  }\n",
              "\n",
              "  .colab-df-quickchart {\n",
              "    background-color: var(--bg-color);\n",
              "    border: none;\n",
              "    border-radius: 50%;\n",
              "    cursor: pointer;\n",
              "    display: none;\n",
              "    fill: var(--fill-color);\n",
              "    height: 32px;\n",
              "    padding: 0;\n",
              "    width: 32px;\n",
              "  }\n",
              "\n",
              "  .colab-df-quickchart:hover {\n",
              "    background-color: var(--hover-bg-color);\n",
              "    box-shadow: 0 1px 2px rgba(60, 64, 67, 0.3), 0 1px 3px 1px rgba(60, 64, 67, 0.15);\n",
              "    fill: var(--button-hover-fill-color);\n",
              "  }\n",
              "\n",
              "  .colab-df-quickchart-complete:disabled,\n",
              "  .colab-df-quickchart-complete:disabled:hover {\n",
              "    background-color: var(--disabled-bg-color);\n",
              "    fill: var(--disabled-fill-color);\n",
              "    box-shadow: none;\n",
              "  }\n",
              "\n",
              "  .colab-df-spinner {\n",
              "    border: 2px solid var(--fill-color);\n",
              "    border-color: transparent;\n",
              "    border-bottom-color: var(--fill-color);\n",
              "    animation:\n",
              "      spin 1s steps(1) infinite;\n",
              "  }\n",
              "\n",
              "  @keyframes spin {\n",
              "    0% {\n",
              "      border-color: transparent;\n",
              "      border-bottom-color: var(--fill-color);\n",
              "      border-left-color: var(--fill-color);\n",
              "    }\n",
              "    20% {\n",
              "      border-color: transparent;\n",
              "      border-left-color: var(--fill-color);\n",
              "      border-top-color: var(--fill-color);\n",
              "    }\n",
              "    30% {\n",
              "      border-color: transparent;\n",
              "      border-left-color: var(--fill-color);\n",
              "      border-top-color: var(--fill-color);\n",
              "      border-right-color: var(--fill-color);\n",
              "    }\n",
              "    40% {\n",
              "      border-color: transparent;\n",
              "      border-right-color: var(--fill-color);\n",
              "      border-top-color: var(--fill-color);\n",
              "    }\n",
              "    60% {\n",
              "      border-color: transparent;\n",
              "      border-right-color: var(--fill-color);\n",
              "    }\n",
              "    80% {\n",
              "      border-color: transparent;\n",
              "      border-right-color: var(--fill-color);\n",
              "      border-bottom-color: var(--fill-color);\n",
              "    }\n",
              "    90% {\n",
              "      border-color: transparent;\n",
              "      border-bottom-color: var(--fill-color);\n",
              "    }\n",
              "  }\n",
              "</style>\n",
              "\n",
              "  <script>\n",
              "    async function quickchart(key) {\n",
              "      const quickchartButtonEl =\n",
              "        document.querySelector('#' + key + ' button');\n",
              "      quickchartButtonEl.disabled = true;  // To prevent multiple clicks.\n",
              "      quickchartButtonEl.classList.add('colab-df-spinner');\n",
              "      try {\n",
              "        const charts = await google.colab.kernel.invokeFunction(\n",
              "            'suggestCharts', [key], {});\n",
              "      } catch (error) {\n",
              "        console.error('Error during call to suggestCharts:', error);\n",
              "      }\n",
              "      quickchartButtonEl.classList.remove('colab-df-spinner');\n",
              "      quickchartButtonEl.classList.add('colab-df-quickchart-complete');\n",
              "    }\n",
              "    (() => {\n",
              "      let quickchartButtonEl =\n",
              "        document.querySelector('#df-d3a34e24-80a3-467f-aa97-3da727c267b2 button');\n",
              "      quickchartButtonEl.style.display =\n",
              "        google.colab.kernel.accessAllowed ? 'block' : 'none';\n",
              "    })();\n",
              "  </script>\n",
              "</div>\n",
              "    </div>\n",
              "  </div>\n"
            ]
          },
          "metadata": {},
          "execution_count": 64
        }
      ]
    },
    {
      "cell_type": "code",
      "source": [],
      "metadata": {
        "id": "dmAYdWmpMyTH"
      },
      "execution_count": null,
      "outputs": []
    }
  ],
  "metadata": {
    "kernelspec": {
      "display_name": "Python 3",
      "name": "python3"
    },
    "language_info": {
      "codemirror_mode": {
        "name": "ipython",
        "version": 3
      },
      "file_extension": ".py",
      "mimetype": "text/x-python",
      "name": "python",
      "nbconvert_exporter": "python",
      "pygments_lexer": "ipython3",
      "version": "3.11.4"
    },
    "colab": {
      "provenance": [],
      "toc_visible": true,
      "machine_shape": "hm",
      "gpuType": "T4"
    },
    "widgets": {
      "application/vnd.jupyter.widget-state+json": {
        "5741deca1a5e4e0ea5389d2de78d2a71": {
          "model_module": "@jupyter-widgets/controls",
          "model_name": "HBoxModel",
          "model_module_version": "1.5.0",
          "state": {
            "_dom_classes": [],
            "_model_module": "@jupyter-widgets/controls",
            "_model_module_version": "1.5.0",
            "_model_name": "HBoxModel",
            "_view_count": null,
            "_view_module": "@jupyter-widgets/controls",
            "_view_module_version": "1.5.0",
            "_view_name": "HBoxView",
            "box_style": "",
            "children": [
              "IPY_MODEL_a1c3377635684704aaa140c89420c09d",
              "IPY_MODEL_dc402b95e1eb4251b8ec82ce9faf7068",
              "IPY_MODEL_4a2f86d9db29456da85d3a27f3acd1c9"
            ],
            "layout": "IPY_MODEL_70a1e710a7bd49a3b64d2c1a01ac478f"
          }
        },
        "a1c3377635684704aaa140c89420c09d": {
          "model_module": "@jupyter-widgets/controls",
          "model_name": "HTMLModel",
          "model_module_version": "1.5.0",
          "state": {
            "_dom_classes": [],
            "_model_module": "@jupyter-widgets/controls",
            "_model_module_version": "1.5.0",
            "_model_name": "HTMLModel",
            "_view_count": null,
            "_view_module": "@jupyter-widgets/controls",
            "_view_module_version": "1.5.0",
            "_view_name": "HTMLView",
            "description": "",
            "description_tooltip": null,
            "layout": "IPY_MODEL_df2594396edf4545bad896de4f9ca7ee",
            "placeholder": "​",
            "style": "IPY_MODEL_1c3f3ae6f0ce43db9a1c80764dcb1939",
            "value": "Bert inferencing...: 100%"
          }
        },
        "dc402b95e1eb4251b8ec82ce9faf7068": {
          "model_module": "@jupyter-widgets/controls",
          "model_name": "FloatProgressModel",
          "model_module_version": "1.5.0",
          "state": {
            "_dom_classes": [],
            "_model_module": "@jupyter-widgets/controls",
            "_model_module_version": "1.5.0",
            "_model_name": "FloatProgressModel",
            "_view_count": null,
            "_view_module": "@jupyter-widgets/controls",
            "_view_module_version": "1.5.0",
            "_view_name": "ProgressView",
            "bar_style": "success",
            "description": "",
            "description_tooltip": null,
            "layout": "IPY_MODEL_fad0a47a7dbe47d1a8b1f9938633648f",
            "max": 24783,
            "min": 0,
            "orientation": "horizontal",
            "style": "IPY_MODEL_9bc1c8b3f84f4a1b82a35468498da73e",
            "value": 24783
          }
        },
        "4a2f86d9db29456da85d3a27f3acd1c9": {
          "model_module": "@jupyter-widgets/controls",
          "model_name": "HTMLModel",
          "model_module_version": "1.5.0",
          "state": {
            "_dom_classes": [],
            "_model_module": "@jupyter-widgets/controls",
            "_model_module_version": "1.5.0",
            "_model_name": "HTMLModel",
            "_view_count": null,
            "_view_module": "@jupyter-widgets/controls",
            "_view_module_version": "1.5.0",
            "_view_name": "HTMLView",
            "description": "",
            "description_tooltip": null,
            "layout": "IPY_MODEL_d7845e68a0674320a295554cf30c0272",
            "placeholder": "​",
            "style": "IPY_MODEL_f119fb4a73244e68ae1c74c56978a892",
            "value": " 24783/24783 [04:15&lt;00:00, 96.19it/s]"
          }
        },
        "70a1e710a7bd49a3b64d2c1a01ac478f": {
          "model_module": "@jupyter-widgets/base",
          "model_name": "LayoutModel",
          "model_module_version": "1.2.0",
          "state": {
            "_model_module": "@jupyter-widgets/base",
            "_model_module_version": "1.2.0",
            "_model_name": "LayoutModel",
            "_view_count": null,
            "_view_module": "@jupyter-widgets/base",
            "_view_module_version": "1.2.0",
            "_view_name": "LayoutView",
            "align_content": null,
            "align_items": null,
            "align_self": null,
            "border": null,
            "bottom": null,
            "display": null,
            "flex": null,
            "flex_flow": null,
            "grid_area": null,
            "grid_auto_columns": null,
            "grid_auto_flow": null,
            "grid_auto_rows": null,
            "grid_column": null,
            "grid_gap": null,
            "grid_row": null,
            "grid_template_areas": null,
            "grid_template_columns": null,
            "grid_template_rows": null,
            "height": null,
            "justify_content": null,
            "justify_items": null,
            "left": null,
            "margin": null,
            "max_height": null,
            "max_width": null,
            "min_height": null,
            "min_width": null,
            "object_fit": null,
            "object_position": null,
            "order": null,
            "overflow": null,
            "overflow_x": null,
            "overflow_y": null,
            "padding": null,
            "right": null,
            "top": null,
            "visibility": null,
            "width": null
          }
        },
        "df2594396edf4545bad896de4f9ca7ee": {
          "model_module": "@jupyter-widgets/base",
          "model_name": "LayoutModel",
          "model_module_version": "1.2.0",
          "state": {
            "_model_module": "@jupyter-widgets/base",
            "_model_module_version": "1.2.0",
            "_model_name": "LayoutModel",
            "_view_count": null,
            "_view_module": "@jupyter-widgets/base",
            "_view_module_version": "1.2.0",
            "_view_name": "LayoutView",
            "align_content": null,
            "align_items": null,
            "align_self": null,
            "border": null,
            "bottom": null,
            "display": null,
            "flex": null,
            "flex_flow": null,
            "grid_area": null,
            "grid_auto_columns": null,
            "grid_auto_flow": null,
            "grid_auto_rows": null,
            "grid_column": null,
            "grid_gap": null,
            "grid_row": null,
            "grid_template_areas": null,
            "grid_template_columns": null,
            "grid_template_rows": null,
            "height": null,
            "justify_content": null,
            "justify_items": null,
            "left": null,
            "margin": null,
            "max_height": null,
            "max_width": null,
            "min_height": null,
            "min_width": null,
            "object_fit": null,
            "object_position": null,
            "order": null,
            "overflow": null,
            "overflow_x": null,
            "overflow_y": null,
            "padding": null,
            "right": null,
            "top": null,
            "visibility": null,
            "width": null
          }
        },
        "1c3f3ae6f0ce43db9a1c80764dcb1939": {
          "model_module": "@jupyter-widgets/controls",
          "model_name": "DescriptionStyleModel",
          "model_module_version": "1.5.0",
          "state": {
            "_model_module": "@jupyter-widgets/controls",
            "_model_module_version": "1.5.0",
            "_model_name": "DescriptionStyleModel",
            "_view_count": null,
            "_view_module": "@jupyter-widgets/base",
            "_view_module_version": "1.2.0",
            "_view_name": "StyleView",
            "description_width": ""
          }
        },
        "fad0a47a7dbe47d1a8b1f9938633648f": {
          "model_module": "@jupyter-widgets/base",
          "model_name": "LayoutModel",
          "model_module_version": "1.2.0",
          "state": {
            "_model_module": "@jupyter-widgets/base",
            "_model_module_version": "1.2.0",
            "_model_name": "LayoutModel",
            "_view_count": null,
            "_view_module": "@jupyter-widgets/base",
            "_view_module_version": "1.2.0",
            "_view_name": "LayoutView",
            "align_content": null,
            "align_items": null,
            "align_self": null,
            "border": null,
            "bottom": null,
            "display": null,
            "flex": null,
            "flex_flow": null,
            "grid_area": null,
            "grid_auto_columns": null,
            "grid_auto_flow": null,
            "grid_auto_rows": null,
            "grid_column": null,
            "grid_gap": null,
            "grid_row": null,
            "grid_template_areas": null,
            "grid_template_columns": null,
            "grid_template_rows": null,
            "height": null,
            "justify_content": null,
            "justify_items": null,
            "left": null,
            "margin": null,
            "max_height": null,
            "max_width": null,
            "min_height": null,
            "min_width": null,
            "object_fit": null,
            "object_position": null,
            "order": null,
            "overflow": null,
            "overflow_x": null,
            "overflow_y": null,
            "padding": null,
            "right": null,
            "top": null,
            "visibility": null,
            "width": null
          }
        },
        "9bc1c8b3f84f4a1b82a35468498da73e": {
          "model_module": "@jupyter-widgets/controls",
          "model_name": "ProgressStyleModel",
          "model_module_version": "1.5.0",
          "state": {
            "_model_module": "@jupyter-widgets/controls",
            "_model_module_version": "1.5.0",
            "_model_name": "ProgressStyleModel",
            "_view_count": null,
            "_view_module": "@jupyter-widgets/base",
            "_view_module_version": "1.2.0",
            "_view_name": "StyleView",
            "bar_color": null,
            "description_width": ""
          }
        },
        "d7845e68a0674320a295554cf30c0272": {
          "model_module": "@jupyter-widgets/base",
          "model_name": "LayoutModel",
          "model_module_version": "1.2.0",
          "state": {
            "_model_module": "@jupyter-widgets/base",
            "_model_module_version": "1.2.0",
            "_model_name": "LayoutModel",
            "_view_count": null,
            "_view_module": "@jupyter-widgets/base",
            "_view_module_version": "1.2.0",
            "_view_name": "LayoutView",
            "align_content": null,
            "align_items": null,
            "align_self": null,
            "border": null,
            "bottom": null,
            "display": null,
            "flex": null,
            "flex_flow": null,
            "grid_area": null,
            "grid_auto_columns": null,
            "grid_auto_flow": null,
            "grid_auto_rows": null,
            "grid_column": null,
            "grid_gap": null,
            "grid_row": null,
            "grid_template_areas": null,
            "grid_template_columns": null,
            "grid_template_rows": null,
            "height": null,
            "justify_content": null,
            "justify_items": null,
            "left": null,
            "margin": null,
            "max_height": null,
            "max_width": null,
            "min_height": null,
            "min_width": null,
            "object_fit": null,
            "object_position": null,
            "order": null,
            "overflow": null,
            "overflow_x": null,
            "overflow_y": null,
            "padding": null,
            "right": null,
            "top": null,
            "visibility": null,
            "width": null
          }
        },
        "f119fb4a73244e68ae1c74c56978a892": {
          "model_module": "@jupyter-widgets/controls",
          "model_name": "DescriptionStyleModel",
          "model_module_version": "1.5.0",
          "state": {
            "_model_module": "@jupyter-widgets/controls",
            "_model_module_version": "1.5.0",
            "_model_name": "DescriptionStyleModel",
            "_view_count": null,
            "_view_module": "@jupyter-widgets/base",
            "_view_module_version": "1.2.0",
            "_view_name": "StyleView",
            "description_width": ""
          }
        }
      }
    },
    "accelerator": "GPU"
  },
  "nbformat": 4,
  "nbformat_minor": 0
}